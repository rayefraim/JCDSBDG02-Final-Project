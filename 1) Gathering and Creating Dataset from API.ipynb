{
 "cells": [
  {
   "cell_type": "markdown",
   "metadata": {},
   "source": [
    "# Data Gathering from Spotify using Spotipy Library"
   ]
  },
  {
   "cell_type": "code",
   "execution_count": 2,
   "metadata": {},
   "outputs": [],
   "source": [
    "### Import neccesary libraries\n",
    "import pandas as pd\n",
    "import numpy as np\n",
    "\n",
    "### Import Spotipy API and authenticating\n",
    "import spotipy\n",
    "from spotipy.oauth2 import SpotifyClientCredentials\n",
    "cid = '9d6662eb9b5d4385a41336390cd9053e'\n",
    "secret = 'd36d9e2db9fb4da8b4e15cf72a9835ae'\n",
    "client_credentials_manager = SpotifyClientCredentials(client_id=cid, client_secret=secret)\n",
    "sp = spotipy.Spotify(client_credentials_manager\n",
    "=\n",
    "client_credentials_manager)"
   ]
  },
  {
   "cell_type": "code",
   "execution_count": 3,
   "metadata": {},
   "outputs": [],
   "source": [
    "## Setting the container to receive the track info from API (Maximum 1000 per request)\n",
    "artist_name = []\n",
    "track_name = []\n",
    "popularity = []\n",
    "track_id = []\n",
    "\n",
    "## Creating function to get tracks info from Spotify API\n",
    "def get_tracks(start,end,year):\n",
    "    for i in range(start,end,50):\n",
    "        track_results = sp.search(q='year:''{}'.format(year), type='track', limit=50,offset=i)\n",
    "        for i, t in enumerate(track_results['tracks']['items']):\n",
    "            artist_name.append(t['artists'][0]['name'])\n",
    "            track_name.append(t['name'])\n",
    "            track_id.append(t['id'])\n",
    "            popularity.append(t['popularity'])\n",
    "    print(\"Tracks from year {} from index {} to {}\".format(year,start,end-1))\n",
    "    print(\"Total tracks in container is {}\".format(len(track_id)))"
   ]
  },
  {
   "cell_type": "code",
   "execution_count": 90,
   "metadata": {},
   "outputs": [
    {
     "name": "stdout",
     "output_type": "stream",
     "text": [
      "Tracks from year 2010 from index 0 to 1999\n",
      "Total tracks in container is 20000\n"
     ]
    }
   ],
   "source": [
    "#Use the get_tracks function to gather 2000 tracks per year from 2010-2019.\n",
    "## Not looping the function, since the API limit only 2000 data per request\n",
    "get_tracks(0,2000,2010)"
   ]
  },
  {
   "cell_type": "code",
   "execution_count": 95,
   "metadata": {},
   "outputs": [
    {
     "data": {
      "text/plain": [
       "20000"
      ]
     },
     "execution_count": 95,
     "metadata": {},
     "output_type": "execute_result"
    }
   ],
   "source": [
    "## Adding Year Array\n",
    "year = []\n",
    "for i in range(2019,2009,-1):\n",
    "    for j in range(0,2000):\n",
    "        year.append(i)"
   ]
  },
  {
   "cell_type": "markdown",
   "metadata": {},
   "source": [
    "To avoid error and nan values, add the try except function to get the nan values."
   ]
  },
  {
   "cell_type": "code",
   "execution_count": 190,
   "metadata": {},
   "outputs": [
    {
     "data": {
      "text/plain": [
       "20000"
      ]
     },
     "execution_count": 190,
     "metadata": {},
     "output_type": "execute_result"
    }
   ],
   "source": [
    "## Creating Containers for audio features\n",
    "danceability = []\n",
    "energy = []\n",
    "key = []\n",
    "loudness = []\n",
    "mode = []\n",
    "speechiness = []\n",
    "acousticness = []\n",
    "instrumentalness = []\n",
    "liveness = []\n",
    "valence = []\n",
    "tempo = []\n",
    "types = []\n",
    "ids = []\n",
    "uri = []\n",
    "track_href = []\n",
    "analysis_url = []\n",
    "duration_ms = []\n",
    "time_signature = []\n",
    "\n",
    "# Looping to extract the audio features and append it to the containers\n",
    "for i in track_id:\n",
    "    track_features = sp.audio_features(tracks=[i])\n",
    "    try:\n",
    "        danceability.append(track_features[0][\"danceability\"])\n",
    "        energy.append(track_features[0][\"energy\"])\n",
    "        key.append(track_features[0][\"key\"])\n",
    "        loudness.append(track_features[0][\"loudness\"])\n",
    "        mode.append(track_features[0][\"mode\"])\n",
    "        speechiness.append(track_features[0][\"speechiness\"])\n",
    "        acousticness.append(track_features[0][\"acousticness\"])\n",
    "        instrumentalness.append(track_features[0][\"instrumentalness\"])\n",
    "        liveness.append(track_features[0][\"liveness\"])\n",
    "        valence.append(track_features[0][\"valence\"])\n",
    "        tempo.append(track_features[0][\"tempo\"])\n",
    "        types.append(track_features[0][\"type\"])\n",
    "        ids.append(track_features[0][\"id\"])\n",
    "        uri.append(track_features[0][\"uri\"])\n",
    "        track_href.append(track_features[0][\"track_href\"])\n",
    "        analysis_url.append(track_features[0][\"analysis_url\"])\n",
    "        duration_ms.append(track_features[0][\"duration_ms\"])\n",
    "        time_signature.append(track_features[0][\"time_signature\"])\n",
    "    except:\n",
    "        danceability.append(np.nan)\n",
    "        energy.append(np.nan)\n",
    "        key.append(np.nan)\n",
    "        loudness.append(np.nan)\n",
    "        mode.append(np.nan)\n",
    "        speechiness.append(np.nan)\n",
    "        acousticness.append(np.nan)\n",
    "        instrumentalness.append(np.nan)\n",
    "        liveness.append(np.nan)\n",
    "        valence.append(np.nan)\n",
    "        tempo.append(np.nan)\n",
    "        types.append(np.nan)\n",
    "        ids.append(np.nan)\n",
    "        uri.append(np.nan)\n",
    "        track_href.append(np.nan)\n",
    "        analysis_url.append(np.nan)\n",
    "        duration_ms.append(np.nan)\n",
    "        time_signature.append(np.nan)\n",
    "len(key)"
   ]
  },
  {
   "cell_type": "code",
   "execution_count": 193,
   "metadata": {},
   "outputs": [],
   "source": [
    "# Creating Dataframe from all the array\n",
    "df_spotify = pd.DataFrame({\n",
    "    \"track_id\" : track_id,\n",
    "    \"track_name\" : track_name,\n",
    "    \"artist_name\" : artist_name,\n",
    "    \"id\" : ids,\n",
    "    \"uri\" : uri,\n",
    "    \"track_href\" : track_href,\n",
    "    \"analysis_url\" : analysis_url,\n",
    "    \"year\" : year,\n",
    "    \"danceability\" : danceability,\n",
    "    \"energy\" : energy,\n",
    "    \"key\" : key,\n",
    "    \"loudness\" : loudness,\n",
    "    \"mode\" : mode,\n",
    "    \"speechiness\" : speechiness,\n",
    "    \"acousticness\" : acousticness,\n",
    "    \"instrumentalness\" : instrumentalness,\n",
    "    \"liveness\" : liveness,\n",
    "    \"valence\" : valence,\n",
    "    \"tempo\" : tempo,\n",
    "    \"type\" : types,\n",
    "    \"duration_ms\" : duration_ms,\n",
    "    \"time_signature\" : time_signature,\n",
    "    \"popularity\" : popularity\n",
    "})\n",
    "\n",
    "### Export to CSV the RAW dataset for primary dataset\n",
    "df_spotify.to_csv(\"Complete Dataset.csv\")"
   ]
  }
 ],
 "metadata": {
  "kernelspec": {
   "display_name": "Python 3",
   "language": "python",
   "name": "python3"
  },
  "language_info": {
   "codemirror_mode": {
    "name": "ipython",
    "version": 3
   },
   "file_extension": ".py",
   "mimetype": "text/x-python",
   "name": "python",
   "nbconvert_exporter": "python",
   "pygments_lexer": "ipython3",
   "version": "3.7.4"
  }
 },
 "nbformat": 4,
 "nbformat_minor": 2
}

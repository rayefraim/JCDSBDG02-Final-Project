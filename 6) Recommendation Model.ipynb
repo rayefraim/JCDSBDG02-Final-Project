{
 "cells": [
  {
   "cell_type": "code",
   "execution_count": 1,
   "metadata": {},
   "outputs": [],
   "source": [
    "import pandas as pd\n",
    "import numpy as np\n",
    "import seaborn as sns\n",
    "import matplotlib.pyplot as plt\n",
    "\n",
    "### Import Spotipy API and authenticating\n",
    "import spotipy\n",
    "from spotipy.oauth2 import SpotifyClientCredentials\n",
    "cid = '9d6662eb9b5d4385a41336390cd9053e'\n",
    "secret = 'd36d9e2db9fb4da8b4e15cf72a9835ae'\n",
    "client_credentials_manager = SpotifyClientCredentials(client_id=cid, client_secret=secret)\n",
    "sp = spotipy.Spotify(client_credentials_manager\n",
    "=\n",
    "client_credentials_manager)"
   ]
  },
  {
   "cell_type": "markdown",
   "metadata": {},
   "source": [
    "## Simple Recommender System from Genre"
   ]
  },
  {
   "cell_type": "code",
   "execution_count": 2,
   "metadata": {},
   "outputs": [],
   "source": [
    "## Function for recommendation based on genre labelled from clustering model (KMeans)\n",
    "\n",
    "def get_recommendation(genre):\n",
    "    df_rec = pd.read_csv(\"Spotify Full Data with Genre.csv\")\n",
    "    index_song = df_rec[df_rec[\"genre\"] == genre].sort_values(by=\"popularity\",ascending=False).head(5).index\n",
    "\n",
    "    track_name = []\n",
    "    artist_name = []\n",
    "    track_id = []\n",
    "    cover_link = []\n",
    "    spotify_link = []\n",
    "\n",
    "    for item in index_song:\n",
    "        song = df_rec.iloc[item]\n",
    "        track_name.append(song[\"track_name\"])\n",
    "        artist_name.append(song[\"artist_name\"])\n",
    "        track_id.append(song[\"track_id\"])\n",
    "        spotify = \"https://open.spotify.com/track/\" + str(song[\"track_id\"])\n",
    "        spotify_link.append(spotify)\n",
    "        cover_link.append(sp.track(song[\"track_id\"])['album']['images'][1]['url'])\n",
    "    \n",
    "    return track_name, artist_name, track_id, cover_link, spotify_link"
   ]
  },
  {
   "cell_type": "markdown",
   "metadata": {},
   "source": [
    "The result will show the Title, Artist, spotify track id, cover image and spotify song link."
   ]
  },
  {
   "cell_type": "code",
   "execution_count": 3,
   "metadata": {},
   "outputs": [
    {
     "data": {
      "text/html": [
       "<div>\n",
       "<style scoped>\n",
       "    .dataframe tbody tr th:only-of-type {\n",
       "        vertical-align: middle;\n",
       "    }\n",
       "\n",
       "    .dataframe tbody tr th {\n",
       "        vertical-align: top;\n",
       "    }\n",
       "\n",
       "    .dataframe thead th {\n",
       "        text-align: right;\n",
       "    }\n",
       "</style>\n",
       "<table border=\"1\" class=\"dataframe\">\n",
       "  <thead>\n",
       "    <tr style=\"text-align: right;\">\n",
       "      <th></th>\n",
       "      <th>0</th>\n",
       "      <th>1</th>\n",
       "      <th>2</th>\n",
       "      <th>3</th>\n",
       "      <th>4</th>\n",
       "    </tr>\n",
       "  </thead>\n",
       "  <tbody>\n",
       "    <tr>\n",
       "      <th>Track Name</th>\n",
       "      <td>Memories</td>\n",
       "      <td>Someone You Loved</td>\n",
       "      <td>Before You Go</td>\n",
       "      <td>when the party's over</td>\n",
       "      <td>Moral of the Story</td>\n",
       "    </tr>\n",
       "    <tr>\n",
       "      <th>Artist Name</th>\n",
       "      <td>Maroon 5</td>\n",
       "      <td>Lewis Capaldi</td>\n",
       "      <td>Lewis Capaldi</td>\n",
       "      <td>Billie Eilish</td>\n",
       "      <td>Ashe</td>\n",
       "    </tr>\n",
       "    <tr>\n",
       "      <th>ID</th>\n",
       "      <td>2b8fOow8UzyDFAE27YhOZM</td>\n",
       "      <td>7qEHsqek33rTcFNT9PFqLf</td>\n",
       "      <td>7ce20yLkzuXXLUhzIDoZih</td>\n",
       "      <td>43zdsphuZLzwA9k4DJhU0I</td>\n",
       "      <td>2nC3QhMI9reBIOWutbU3Tj</td>\n",
       "    </tr>\n",
       "    <tr>\n",
       "      <th>Cover Image Link</th>\n",
       "      <td>https://i.scdn.co/image/ab67616d00001e02b8c013...</td>\n",
       "      <td>https://i.scdn.co/image/ab67616d00001e02fc2101...</td>\n",
       "      <td>https://i.scdn.co/image/ab67616d00001e02f6cda6...</td>\n",
       "      <td>https://i.scdn.co/image/ab67616d00001e0250a314...</td>\n",
       "      <td>https://i.scdn.co/image/ab67616d00001e02aea0d9...</td>\n",
       "    </tr>\n",
       "    <tr>\n",
       "      <th>Spotify Link</th>\n",
       "      <td>https://open.spotify.com/track/2b8fOow8UzyDFAE...</td>\n",
       "      <td>https://open.spotify.com/track/7qEHsqek33rTcFN...</td>\n",
       "      <td>https://open.spotify.com/track/7ce20yLkzuXXLUh...</td>\n",
       "      <td>https://open.spotify.com/track/43zdsphuZLzwA9k...</td>\n",
       "      <td>https://open.spotify.com/track/2nC3QhMI9reBIOW...</td>\n",
       "    </tr>\n",
       "  </tbody>\n",
       "</table>\n",
       "</div>"
      ],
      "text/plain": [
       "                                                                  0  \\\n",
       "Track Name                                                 Memories   \n",
       "Artist Name                                                Maroon 5   \n",
       "ID                                           2b8fOow8UzyDFAE27YhOZM   \n",
       "Cover Image Link  https://i.scdn.co/image/ab67616d00001e02b8c013...   \n",
       "Spotify Link      https://open.spotify.com/track/2b8fOow8UzyDFAE...   \n",
       "\n",
       "                                                                  1  \\\n",
       "Track Name                                        Someone You Loved   \n",
       "Artist Name                                           Lewis Capaldi   \n",
       "ID                                           7qEHsqek33rTcFNT9PFqLf   \n",
       "Cover Image Link  https://i.scdn.co/image/ab67616d00001e02fc2101...   \n",
       "Spotify Link      https://open.spotify.com/track/7qEHsqek33rTcFN...   \n",
       "\n",
       "                                                                  2  \\\n",
       "Track Name                                            Before You Go   \n",
       "Artist Name                                           Lewis Capaldi   \n",
       "ID                                           7ce20yLkzuXXLUhzIDoZih   \n",
       "Cover Image Link  https://i.scdn.co/image/ab67616d00001e02f6cda6...   \n",
       "Spotify Link      https://open.spotify.com/track/7ce20yLkzuXXLUh...   \n",
       "\n",
       "                                                                  3  \\\n",
       "Track Name                                    when the party's over   \n",
       "Artist Name                                           Billie Eilish   \n",
       "ID                                           43zdsphuZLzwA9k4DJhU0I   \n",
       "Cover Image Link  https://i.scdn.co/image/ab67616d00001e0250a314...   \n",
       "Spotify Link      https://open.spotify.com/track/43zdsphuZLzwA9k...   \n",
       "\n",
       "                                                                  4  \n",
       "Track Name                                       Moral of the Story  \n",
       "Artist Name                                                    Ashe  \n",
       "ID                                           2nC3QhMI9reBIOWutbU3Tj  \n",
       "Cover Image Link  https://i.scdn.co/image/ab67616d00001e02aea0d9...  \n",
       "Spotify Link      https://open.spotify.com/track/2nC3QhMI9reBIOW...  "
      ]
     },
     "execution_count": 3,
     "metadata": {},
     "output_type": "execute_result"
    }
   ],
   "source": [
    "result = get_recommendation(\"Alternative\")\n",
    "result = pd.DataFrame(result,index=[\"Track Name\", \"Artist Name\", \"ID\",\"Cover Image Link\",\"Spotify Link\"])\n",
    "result"
   ]
  },
  {
   "cell_type": "code",
   "execution_count": 12,
   "metadata": {},
   "outputs": [],
   "source": []
  }
 ],
 "metadata": {
  "kernelspec": {
   "display_name": "Python 3",
   "language": "python",
   "name": "python3"
  },
  "language_info": {
   "codemirror_mode": {
    "name": "ipython",
    "version": 3
   },
   "file_extension": ".py",
   "mimetype": "text/x-python",
   "name": "python",
   "nbconvert_exporter": "python",
   "pygments_lexer": "ipython3",
   "version": "3.7.4"
  }
 },
 "nbformat": 4,
 "nbformat_minor": 2
}
